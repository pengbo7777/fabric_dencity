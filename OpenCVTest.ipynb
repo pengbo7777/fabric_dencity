{
 "cells": [
  {
   "cell_type": "code",
   "execution_count": 1,
   "metadata": {
    "ExecuteTime": {
     "end_time": "2020-06-09T12:47:29.748380Z",
     "start_time": "2020-06-09T12:47:29.609456Z"
    }
   },
   "outputs": [],
   "source": [
    "import cv2 as cv\n",
    "import numpy as np"
   ]
  },
  {
   "cell_type": "code",
   "execution_count": null,
   "metadata": {
    "ExecuteTime": {
     "start_time": "2020-06-09T12:47:29.613Z"
    }
   },
   "outputs": [
    {
     "name": "stdout",
     "output_type": "stream",
     "text": [
      "ret : 134.0\n"
     ]
    }
   ],
   "source": [
    "def method_1(image):\n",
    "    gray = cv.cvtColor(image, cv.COLOR_BGR2GRAY)\n",
    "    t, binary = cv.threshold(gray, 0, 255, cv.THRESH_BINARY | cv.THRESH_OTSU)\n",
    "    return binary\n",
    "\n",
    "\n",
    "def method_2(image):  \n",
    "    blurred = cv.GaussianBlur(image, (3, 3), 0) # 高斯去噪音\n",
    "    gray = cv.cvtColor(blurred, cv.COLOR_BGR2GRAY)\n",
    "    t, binary = cv.threshold(gray, 0, 255, cv.THRESH_BINARY | cv.THRESH_OTSU)\n",
    "    return binary\n",
    "\n",
    "\n",
    "def method_3(image): \n",
    "    blurred = cv.pyrMeanShiftFiltering(image, 10, 100)  # 先均值迁移去噪声\n",
    "    gray = cv.cvtColor(blurred, cv.COLOR_BGR2GRAY)\n",
    "    t, binary = cv.threshold(gray, 0, 255, cv.THRESH_BINARY | cv.THRESH_OTSU)\n",
    "    return binary\n",
    "\n",
    "\n",
    "src = cv.imread(\"test.jpg\")\n",
    "h, w = src.shape[:2]\n",
    "ret = method_3(src)\n",
    "\n",
    "result = np.zeros([h, w*2, 3], dtype=src.dtype)\n",
    "result[0:h,0:w,:] = src\n",
    "result[0:h,w:2*w,:] = cv.cvtColor(ret, cv.COLOR_GRAY2BGR)\n",
    "\n",
    "\n",
    "#\n",
    "# THRESH_BINARY = 0\n",
    "# THRESH_BINARY_INV = 1\n",
    "# THRESH_TRUNC = 2\n",
    "# THRESH_TOZERO = 3\n",
    "# THRESH_TOZERO_INV = 4\n",
    "#\n",
    "src = result\n",
    "cv.namedWindow(\"input\", cv.WINDOW_AUTOSIZE)\n",
    "cv.imshow(\"input\", src)\n",
    "h, w = src.shape[:2]\n",
    "\n",
    "# 自动阈值分割 OTSU\n",
    "gray = cv.cvtColor(src, cv.COLOR_BGR2GRAY)\n",
    "ret, binary = cv.threshold(gray, 0, 255, cv.THRESH_BINARY | cv.THRESH_OTSU)\n",
    "print(\"ret :\", ret)\n",
    "\n",
    "result = np.zeros([h, w*2, 3], dtype=src.dtype)\n",
    "result[0:h,0:w,:] = src\n",
    "result[0:h,w:2*w,:] = cv.cvtColor(binary, cv.COLOR_GRAY2BGR)\n",
    "\n",
    "src = result\n",
    "\n",
    "# 高斯模糊去噪声\n",
    "gray = cv.cvtColor(src, cv.COLOR_BGR2GRAY)\n",
    "dst = cv.GaussianBlur(gray, (9, 9), 2, 2)\n",
    "binary_1 = cv.adaptiveThreshold(dst, 255, cv.ADAPTIVE_THRESH_GAUSSIAN_C,\n",
    "                              cv.THRESH_BINARY_INV, 45, 15)\n",
    "\n",
    "# 开操作\n",
    "se = cv.getStructuringElement(cv.MORPH_RECT, (5, 5), (-1, -1))\n",
    "binary = cv.morphologyEx(binary_1, cv.MORPH_OPEN, se)\n",
    "\n",
    "#cv.imshow(\"binary\", np.hstack((binary_1,gray,binary)))\n",
    "cv.imshow(\"binary_1\", binary_1)\n",
    "cv.imshow(\"gray\", gray)\n",
    "cv.imshow(\"binary\", binary)\n",
    "\n",
    "cv.waitKey(0)\n",
    "cv.destroyAllWindows()"
   ]
  }
 ],
 "metadata": {
  "kernelspec": {
   "display_name": "Python 3",
   "language": "python",
   "name": "python3"
  },
  "language_info": {
   "codemirror_mode": {
    "name": "ipython",
    "version": 3
   },
   "file_extension": ".py",
   "mimetype": "text/x-python",
   "name": "python",
   "nbconvert_exporter": "python",
   "pygments_lexer": "ipython3",
   "version": "3.6.10"
  },
  "toc": {
   "base_numbering": 1,
   "nav_menu": {},
   "number_sections": true,
   "sideBar": true,
   "skip_h1_title": false,
   "title_cell": "Table of Contents",
   "title_sidebar": "Contents",
   "toc_cell": false,
   "toc_position": {},
   "toc_section_display": true,
   "toc_window_display": false
  },
  "varInspector": {
   "cols": {
    "lenName": 16,
    "lenType": 16,
    "lenVar": 40
   },
   "kernels_config": {
    "python": {
     "delete_cmd_postfix": "",
     "delete_cmd_prefix": "del ",
     "library": "var_list.py",
     "varRefreshCmd": "print(var_dic_list())"
    },
    "r": {
     "delete_cmd_postfix": ") ",
     "delete_cmd_prefix": "rm(",
     "library": "var_list.r",
     "varRefreshCmd": "cat(var_dic_list()) "
    }
   },
   "types_to_exclude": [
    "module",
    "function",
    "builtin_function_or_method",
    "instance",
    "_Feature"
   ],
   "window_display": false
  }
 },
 "nbformat": 4,
 "nbformat_minor": 4
}
